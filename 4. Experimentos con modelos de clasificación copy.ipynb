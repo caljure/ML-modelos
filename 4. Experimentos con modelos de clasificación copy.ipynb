{
 "cells": [
  {
   "cell_type": "markdown",
   "metadata": {},
   "source": [
    "## Modelos de clasificacion"
   ]
  },
  {
   "cell_type": "code",
   "execution_count": 22,
   "metadata": {},
   "outputs": [],
   "source": [
    "from sklearn.naive_bayes import GaussianNB\n",
    "from sklearn.ensemble import GradientBoostingClassifier\n",
    "from sklearn.linear_model import LogisticRegression\n",
    "from sklearn.svm import SVC\n",
    "from sklearn.model_selection import train_test_split\n",
    "from sklearn.metrics import accuracy_score, classification_report\n",
    "import joblib\n",
    "import pandas as pd\n"
   ]
  },
  {
   "cell_type": "code",
   "execution_count": 29,
   "metadata": {},
   "outputs": [],
   "source": [
    "prepro=joblib.load('../models/mi_primer_preprocesamiento.joblib')\n",
    "\n",
    "user={\"age\":[25],\"workclass\":[\"Private\"],\"education\":[\"Bachelors\"],\n",
    "      \"marital-status\":[\"Never-married\"],\n",
    "      \"occupation\":[\"Tech-support\"],\n",
    "      \"relationship\":[\"Not-in-family\"],\n",
    "      \"race\":[\"White\"],\n",
    "      \"sex\":[\"Gay\"],\n",
    "      \"capital-gain\":[0],\n",
    "      \"capital-loss\":[0],\n",
    "      \"hours-per-week\":[40],\n",
    "      \"native-country\":[\"Columbia\"]}\n",
    "\n",
    "transformed_user = prepro.transform(pd.DataFrame(user))"
   ]
  },
  {
   "cell_type": "code",
   "execution_count": 30,
   "metadata": {},
   "outputs": [],
   "source": [
    "Data = pd.read_csv(r\"C:\\Users\\aljur\\OneDrive\\Desktop\\Maestria\\Machine-Learning\\Clase3\\newprojectmlmodels\\models\\Data_Income.csv\")\n",
    "Data=Data.drop(\"fnlwgt\",axis=1)\n",
    "Data = Data.drop(\"education-num\",axis=1)\n",
    "\n",
    "df = Data # dfcopia de data\n",
    "\n",
    "prepro = joblib.load('../models/mi_primer_preprocesamiento.joblib')\n",
    "X = prepro.transform(df.drop(columns=['income']))  \n",
    "y = df['income']"
   ]
  },
  {
   "cell_type": "markdown",
   "metadata": {},
   "source": [
    "## 1. Naive Bayes"
   ]
  },
  {
   "cell_type": "code",
   "execution_count": 31,
   "metadata": {},
   "outputs": [],
   "source": [
    "X_train, X_test, y_train, y_test = train_test_split(X, y, test_size=0.2, random_state=2610)\n"
   ]
  },
  {
   "cell_type": "code",
   "execution_count": 32,
   "metadata": {},
   "outputs": [
    {
     "name": "stdout",
     "output_type": "stream",
     "text": [
      "Precición Naive Bayes: 0.19797318046882997\n",
      "              precision    recall  f1-score   support\n",
      "\n",
      "       <=50K       0.61      0.04      0.07      4954\n",
      "      <=50K.       0.32      0.38      0.35      2424\n",
      "        >50K       0.17      0.10      0.13      1651\n",
      "       >50K.       0.12      0.87      0.20       740\n",
      "\n",
      "    accuracy                           0.20      9769\n",
      "   macro avg       0.30      0.35      0.19      9769\n",
      "weighted avg       0.43      0.20      0.16      9769\n",
      "\n"
     ]
    }
   ],
   "source": [
    "# Inicializar y entrenar el modelo\n",
    "nb_model = GaussianNB()\n",
    "nb_model.fit(X_train, y_train)\n",
    "\n",
    "# Predecir y evaluar\n",
    "y_pred_nb = nb_model.predict(X_test)\n",
    "print(\"Precición Naive Bayes:\", accuracy_score(y_test, y_pred_nb))\n",
    "print(classification_report(y_test, y_pred_nb))"
   ]
  },
  {
   "cell_type": "code",
   "execution_count": 28,
   "metadata": {},
   "outputs": [
    {
     "data": {
      "text/plain": [
       "['Modelo_naive_bayes.joblib']"
      ]
     },
     "execution_count": 28,
     "metadata": {},
     "output_type": "execute_result"
    }
   ],
   "source": [
    "joblib.dump(nb_model, 'Modelo_naive_bayes.joblib')\n"
   ]
  },
  {
   "cell_type": "markdown",
   "metadata": {},
   "source": [
    "## 2. Gradient Boosting"
   ]
  },
  {
   "cell_type": "code",
   "execution_count": 33,
   "metadata": {},
   "outputs": [],
   "source": [
    "X_train, X_test, y_train, y_test = train_test_split(X, y, test_size=0.2, random_state=2610)"
   ]
  },
  {
   "cell_type": "code",
   "execution_count": 34,
   "metadata": {},
   "outputs": [
    {
     "name": "stdout",
     "output_type": "stream",
     "text": [
      "Gradient Boosting Accuracy: 0.5839901729962125\n",
      "              precision    recall  f1-score   support\n",
      "\n",
      "       <=50K       0.59      0.95      0.73      4954\n",
      "      <=50K.       0.17      0.00      0.00      2424\n",
      "        >50K       0.56      0.59      0.57      1651\n",
      "       >50K.       0.53      0.01      0.02       740\n",
      "\n",
      "    accuracy                           0.58      9769\n",
      "   macro avg       0.46      0.39      0.33      9769\n",
      "weighted avg       0.48      0.58      0.47      9769\n",
      "\n"
     ]
    }
   ],
   "source": [
    "# Inicializar y entrenar el modelo\n",
    "gb_model = GradientBoostingClassifier(random_state=2610)\n",
    "gb_model.fit(X_train, y_train)\n",
    "\n",
    "# Predecir y evaluar\n",
    "y_pred_gb = gb_model.predict(X_test)\n",
    "print(\"Gradient Boosting Accuracy:\", accuracy_score(y_test, y_pred_gb))\n",
    "print(classification_report(y_test, y_pred_gb))\n"
   ]
  },
  {
   "cell_type": "code",
   "execution_count": 36,
   "metadata": {},
   "outputs": [
    {
     "data": {
      "text/plain": [
       "['Modelo_Gradient_Boosting.joblib']"
      ]
     },
     "execution_count": 36,
     "metadata": {},
     "output_type": "execute_result"
    }
   ],
   "source": [
    "joblib.dump(gb_model, 'Modelo_Gradient_Boosting.joblib')\n"
   ]
  },
  {
   "cell_type": "markdown",
   "metadata": {},
   "source": [
    "## 3. Regresión Logística"
   ]
  },
  {
   "cell_type": "code",
   "execution_count": 37,
   "metadata": {},
   "outputs": [],
   "source": [
    "X_train, X_test, y_train, y_test = train_test_split(X, y, test_size=0.2, random_state=2610)"
   ]
  },
  {
   "cell_type": "code",
   "execution_count": 38,
   "metadata": {},
   "outputs": [
    {
     "name": "stdout",
     "output_type": "stream",
     "text": [
      "Logistic Regression Accuracy: 0.5762104616644488\n"
     ]
    },
    {
     "name": "stderr",
     "output_type": "stream",
     "text": [
      "c:\\Users\\aljur\\AppData\\Local\\pypoetry\\Cache\\virtualenvs\\models-project-package-Cky3nOtg-py3.12\\Lib\\site-packages\\sklearn\\metrics\\_classification.py:1531: UndefinedMetricWarning: Precision is ill-defined and being set to 0.0 in labels with no predicted samples. Use `zero_division` parameter to control this behavior.\n",
      "  _warn_prf(average, modifier, f\"{metric.capitalize()} is\", len(result))\n",
      "c:\\Users\\aljur\\AppData\\Local\\pypoetry\\Cache\\virtualenvs\\models-project-package-Cky3nOtg-py3.12\\Lib\\site-packages\\sklearn\\metrics\\_classification.py:1531: UndefinedMetricWarning: Precision is ill-defined and being set to 0.0 in labels with no predicted samples. Use `zero_division` parameter to control this behavior.\n",
      "  _warn_prf(average, modifier, f\"{metric.capitalize()} is\", len(result))\n"
     ]
    },
    {
     "name": "stdout",
     "output_type": "stream",
     "text": [
      "              precision    recall  f1-score   support\n",
      "\n",
      "       <=50K       0.59      0.93      0.72      4954\n",
      "      <=50K.       0.00      0.00      0.00      2424\n",
      "        >50K       0.52      0.61      0.56      1651\n",
      "       >50K.       0.46      0.01      0.02       740\n",
      "\n",
      "    accuracy                           0.58      9769\n",
      "   macro avg       0.39      0.39      0.32      9769\n",
      "weighted avg       0.42      0.58      0.46      9769\n",
      "\n"
     ]
    },
    {
     "name": "stderr",
     "output_type": "stream",
     "text": [
      "c:\\Users\\aljur\\AppData\\Local\\pypoetry\\Cache\\virtualenvs\\models-project-package-Cky3nOtg-py3.12\\Lib\\site-packages\\sklearn\\metrics\\_classification.py:1531: UndefinedMetricWarning: Precision is ill-defined and being set to 0.0 in labels with no predicted samples. Use `zero_division` parameter to control this behavior.\n",
      "  _warn_prf(average, modifier, f\"{metric.capitalize()} is\", len(result))\n"
     ]
    }
   ],
   "source": [
    "lr_model = LogisticRegression(max_iter=1000, random_state=2610)\n",
    "lr_model.fit(X_train, y_train)\n",
    "\n",
    "# Predecir y evaluar\n",
    "y_pred_lr = lr_model.predict(X_test)\n",
    "print(\"Logistic Regression Accuracy:\", accuracy_score(y_test, y_pred_lr))\n",
    "print(classification_report(y_test, y_pred_lr))"
   ]
  },
  {
   "cell_type": "code",
   "execution_count": 39,
   "metadata": {},
   "outputs": [
    {
     "data": {
      "text/plain": [
       "['Modelo_regresion_logistica.joblib']"
      ]
     },
     "execution_count": 39,
     "metadata": {},
     "output_type": "execute_result"
    }
   ],
   "source": [
    "joblib.dump(lr_model, 'Modelo_regresion_logistica.joblib')\n"
   ]
  },
  {
   "cell_type": "markdown",
   "metadata": {},
   "source": [
    "## 4. Máquina de Soporte Vectorial "
   ]
  },
  {
   "cell_type": "code",
   "execution_count": 40,
   "metadata": {},
   "outputs": [],
   "source": [
    "X_train, X_test, y_train, y_test = train_test_split(X, y, test_size=0.2, random_state=2610)"
   ]
  },
  {
   "cell_type": "code",
   "execution_count": 42,
   "metadata": {},
   "outputs": [
    {
     "name": "stdout",
     "output_type": "stream",
     "text": [
      "SVM Accuracy: 0.574879721568226\n"
     ]
    },
    {
     "name": "stderr",
     "output_type": "stream",
     "text": [
      "c:\\Users\\aljur\\AppData\\Local\\pypoetry\\Cache\\virtualenvs\\models-project-package-Cky3nOtg-py3.12\\Lib\\site-packages\\sklearn\\metrics\\_classification.py:1531: UndefinedMetricWarning: Precision is ill-defined and being set to 0.0 in labels with no predicted samples. Use `zero_division` parameter to control this behavior.\n",
      "  _warn_prf(average, modifier, f\"{metric.capitalize()} is\", len(result))\n"
     ]
    },
    {
     "name": "stdout",
     "output_type": "stream",
     "text": [
      "              precision    recall  f1-score   support\n",
      "\n",
      "       <=50K       0.59      0.93      0.72      4954\n",
      "      <=50K.       0.00      0.00      0.00      2424\n",
      "        >50K       0.51      0.60      0.55      1651\n",
      "       >50K.       0.33      0.00      0.01       740\n",
      "\n",
      "    accuracy                           0.57      9769\n",
      "   macro avg       0.36      0.38      0.32      9769\n",
      "weighted avg       0.41      0.57      0.46      9769\n",
      "\n"
     ]
    },
    {
     "name": "stderr",
     "output_type": "stream",
     "text": [
      "c:\\Users\\aljur\\AppData\\Local\\pypoetry\\Cache\\virtualenvs\\models-project-package-Cky3nOtg-py3.12\\Lib\\site-packages\\sklearn\\metrics\\_classification.py:1531: UndefinedMetricWarning: Precision is ill-defined and being set to 0.0 in labels with no predicted samples. Use `zero_division` parameter to control this behavior.\n",
      "  _warn_prf(average, modifier, f\"{metric.capitalize()} is\", len(result))\n",
      "c:\\Users\\aljur\\AppData\\Local\\pypoetry\\Cache\\virtualenvs\\models-project-package-Cky3nOtg-py3.12\\Lib\\site-packages\\sklearn\\metrics\\_classification.py:1531: UndefinedMetricWarning: Precision is ill-defined and being set to 0.0 in labels with no predicted samples. Use `zero_division` parameter to control this behavior.\n",
      "  _warn_prf(average, modifier, f\"{metric.capitalize()} is\", len(result))\n"
     ]
    }
   ],
   "source": [
    "svm_model = SVC(kernel='linear', random_state=2610)\n",
    "svm_model.fit(X_train, y_train)\n",
    "\n",
    "# Predecir y evaluar\n",
    "y_pred_svm = svm_model.predict(X_test)\n",
    "print(\"SVM Accuracy:\", accuracy_score(y_test, y_pred_svm))\n",
    "print(classification_report(y_test, y_pred_svm))"
   ]
  },
  {
   "cell_type": "code",
   "execution_count": 43,
   "metadata": {},
   "outputs": [
    {
     "data": {
      "text/plain": [
       "['Modelo_maquina_Soporte_Vectorial.joblib']"
      ]
     },
     "execution_count": 43,
     "metadata": {},
     "output_type": "execute_result"
    }
   ],
   "source": [
    "joblib.dump(svm_model, 'Modelo_maquina_Soporte_Vectorial.joblib')\n"
   ]
  }
 ],
 "metadata": {
  "kernelspec": {
   "display_name": "models-project-package-Cky3nOtg-py3.12",
   "language": "python",
   "name": "python3"
  },
  "language_info": {
   "codemirror_mode": {
    "name": "ipython",
    "version": 3
   },
   "file_extension": ".py",
   "mimetype": "text/x-python",
   "name": "python",
   "nbconvert_exporter": "python",
   "pygments_lexer": "ipython3",
   "version": "3.12.7"
  }
 },
 "nbformat": 4,
 "nbformat_minor": 2
}
